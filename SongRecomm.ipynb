{
 "cells": [
  {
   "cell_type": "code",
   "execution_count": 30,
   "id": "65b4bc46-5592-44e4-9f29-43770704e038",
   "metadata": {},
   "outputs": [],
   "source": [
    "import pandas as pd"
   ]
  },
  {
   "cell_type": "code",
   "execution_count": 31,
   "id": "69a9d7ff-d6eb-45cf-8846-2295a206a9d8",
   "metadata": {},
   "outputs": [],
   "source": [
    "sr= pd.read_csv(\"C:/Users/sachi/Desktop/MusicRecommender/spotify_millsongdata.csv\")"
   ]
  },
  {
   "cell_type": "code",
   "execution_count": 32,
   "id": "36c06a47-1c13-412a-a614-f0106ac1bbe4",
   "metadata": {},
   "outputs": [
    {
     "data": {
      "text/html": [
       "<div>\n",
       "<style scoped>\n",
       "    .dataframe tbody tr th:only-of-type {\n",
       "        vertical-align: middle;\n",
       "    }\n",
       "\n",
       "    .dataframe tbody tr th {\n",
       "        vertical-align: top;\n",
       "    }\n",
       "\n",
       "    .dataframe thead th {\n",
       "        text-align: right;\n",
       "    }\n",
       "</style>\n",
       "<table border=\"1\" class=\"dataframe\">\n",
       "  <thead>\n",
       "    <tr style=\"text-align: right;\">\n",
       "      <th></th>\n",
       "      <th>artist</th>\n",
       "      <th>song</th>\n",
       "      <th>link</th>\n",
       "      <th>text</th>\n",
       "    </tr>\n",
       "  </thead>\n",
       "  <tbody>\n",
       "    <tr>\n",
       "      <th>0</th>\n",
       "      <td>ABBA</td>\n",
       "      <td>Ahe's My Kind Of Girl</td>\n",
       "      <td>/a/abba/ahes+my+kind+of+girl_20598417.html</td>\n",
       "      <td>Look at her face, it's a wonderful face  \\r\\nA...</td>\n",
       "    </tr>\n",
       "    <tr>\n",
       "      <th>1</th>\n",
       "      <td>ABBA</td>\n",
       "      <td>Andante, Andante</td>\n",
       "      <td>/a/abba/andante+andante_20002708.html</td>\n",
       "      <td>Take it easy with me, please  \\r\\nTouch me gen...</td>\n",
       "    </tr>\n",
       "    <tr>\n",
       "      <th>2</th>\n",
       "      <td>ABBA</td>\n",
       "      <td>As Good As New</td>\n",
       "      <td>/a/abba/as+good+as+new_20003033.html</td>\n",
       "      <td>I'll never know why I had to go  \\r\\nWhy I had...</td>\n",
       "    </tr>\n",
       "    <tr>\n",
       "      <th>3</th>\n",
       "      <td>ABBA</td>\n",
       "      <td>Bang</td>\n",
       "      <td>/a/abba/bang_20598415.html</td>\n",
       "      <td>Making somebody happy is a question of give an...</td>\n",
       "    </tr>\n",
       "    <tr>\n",
       "      <th>4</th>\n",
       "      <td>ABBA</td>\n",
       "      <td>Bang-A-Boomerang</td>\n",
       "      <td>/a/abba/bang+a+boomerang_20002668.html</td>\n",
       "      <td>Making somebody happy is a question of give an...</td>\n",
       "    </tr>\n",
       "  </tbody>\n",
       "</table>\n",
       "</div>"
      ],
      "text/plain": [
       "  artist                   song                                        link  \\\n",
       "0   ABBA  Ahe's My Kind Of Girl  /a/abba/ahes+my+kind+of+girl_20598417.html   \n",
       "1   ABBA       Andante, Andante       /a/abba/andante+andante_20002708.html   \n",
       "2   ABBA         As Good As New        /a/abba/as+good+as+new_20003033.html   \n",
       "3   ABBA                   Bang                  /a/abba/bang_20598415.html   \n",
       "4   ABBA       Bang-A-Boomerang      /a/abba/bang+a+boomerang_20002668.html   \n",
       "\n",
       "                                                text  \n",
       "0  Look at her face, it's a wonderful face  \\r\\nA...  \n",
       "1  Take it easy with me, please  \\r\\nTouch me gen...  \n",
       "2  I'll never know why I had to go  \\r\\nWhy I had...  \n",
       "3  Making somebody happy is a question of give an...  \n",
       "4  Making somebody happy is a question of give an...  "
      ]
     },
     "execution_count": 32,
     "metadata": {},
     "output_type": "execute_result"
    }
   ],
   "source": [
    "sr.head()"
   ]
  },
  {
   "cell_type": "code",
   "execution_count": 33,
   "id": "bae9a710-d1dc-4e8a-90ba-93e5eb66d9d9",
   "metadata": {},
   "outputs": [],
   "source": [
    "sr = sr.sample(5000).drop('link', axis =1).reset_index(drop=True)"
   ]
  },
  {
   "cell_type": "code",
   "execution_count": 34,
   "id": "fe43675d-7b2d-4ce8-856d-dddb6895e9c1",
   "metadata": {},
   "outputs": [
    {
     "data": {
      "text/html": [
       "<div>\n",
       "<style scoped>\n",
       "    .dataframe tbody tr th:only-of-type {\n",
       "        vertical-align: middle;\n",
       "    }\n",
       "\n",
       "    .dataframe tbody tr th {\n",
       "        vertical-align: top;\n",
       "    }\n",
       "\n",
       "    .dataframe thead th {\n",
       "        text-align: right;\n",
       "    }\n",
       "</style>\n",
       "<table border=\"1\" class=\"dataframe\">\n",
       "  <thead>\n",
       "    <tr style=\"text-align: right;\">\n",
       "      <th></th>\n",
       "      <th>artist</th>\n",
       "      <th>song</th>\n",
       "      <th>text</th>\n",
       "    </tr>\n",
       "  </thead>\n",
       "  <tbody>\n",
       "    <tr>\n",
       "      <th>0</th>\n",
       "      <td>Within Temptation</td>\n",
       "      <td>Caged</td>\n",
       "      <td>These are the darkest clouds  \\r\\nThat have su...</td>\n",
       "    </tr>\n",
       "    <tr>\n",
       "      <th>1</th>\n",
       "      <td>Everlast</td>\n",
       "      <td>What Is This</td>\n",
       "      <td>(What is it?)  \\r\\n(This is everlasting)  \\r\\n...</td>\n",
       "    </tr>\n",
       "    <tr>\n",
       "      <th>2</th>\n",
       "      <td>Vince Gill</td>\n",
       "      <td>This Memory Of You</td>\n",
       "      <td>The blues are in the air tonight  \\r\\nLove has...</td>\n",
       "    </tr>\n",
       "    <tr>\n",
       "      <th>3</th>\n",
       "      <td>Selena Gomez</td>\n",
       "      <td>Feel Me</td>\n",
       "      <td>[Verse 1]  \\r\\nNo one love you like I love you...</td>\n",
       "    </tr>\n",
       "    <tr>\n",
       "      <th>4</th>\n",
       "      <td>Bette Midler</td>\n",
       "      <td>My Eye On You</td>\n",
       "      <td>Your hair's so fair, your eye's so dark  \\r\\nI...</td>\n",
       "    </tr>\n",
       "  </tbody>\n",
       "</table>\n",
       "</div>"
      ],
      "text/plain": [
       "              artist                song  \\\n",
       "0  Within Temptation               Caged   \n",
       "1           Everlast        What Is This   \n",
       "2         Vince Gill  This Memory Of You   \n",
       "3       Selena Gomez             Feel Me   \n",
       "4       Bette Midler       My Eye On You   \n",
       "\n",
       "                                                text  \n",
       "0  These are the darkest clouds  \\r\\nThat have su...  \n",
       "1  (What is it?)  \\r\\n(This is everlasting)  \\r\\n...  \n",
       "2  The blues are in the air tonight  \\r\\nLove has...  \n",
       "3  [Verse 1]  \\r\\nNo one love you like I love you...  \n",
       "4  Your hair's so fair, your eye's so dark  \\r\\nI...  "
      ]
     },
     "execution_count": 34,
     "metadata": {},
     "output_type": "execute_result"
    }
   ],
   "source": [
    "sr.head()"
   ]
  },
  {
   "cell_type": "code",
   "execution_count": 35,
   "id": "cec19552-2de1-45ef-9588-bab47ecbdba0",
   "metadata": {},
   "outputs": [
    {
     "data": {
      "text/plain": [
       "(5000, 3)"
      ]
     },
     "execution_count": 35,
     "metadata": {},
     "output_type": "execute_result"
    }
   ],
   "source": [
    "sr.shape"
   ]
  },
  {
   "cell_type": "code",
   "execution_count": 36,
   "id": "cb74a6fe-52d5-4072-af09-b3cad70b7930",
   "metadata": {},
   "outputs": [
    {
     "data": {
      "text/plain": [
       "artist    0\n",
       "song      0\n",
       "text      0\n",
       "dtype: int64"
      ]
     },
     "execution_count": 36,
     "metadata": {},
     "output_type": "execute_result"
    }
   ],
   "source": [
    "sr.isnull().sum()"
   ]
  },
  {
   "cell_type": "code",
   "execution_count": 37,
   "id": "8e7720e3-8129-4edd-a9eb-ee223552b14b",
   "metadata": {},
   "outputs": [
    {
     "data": {
      "text/plain": [
       "\"These are the darkest clouds  \\r\\nThat have surrounded me  \\r\\nNow I find myself alone  \\r\\nCaught in a cage  \\r\\nThere's no flower I can find in here  \\r\\nNot withering, not pale to me  \\r\\n  \\r\\nEveryone with a friendly face  \\r\\nSeems to hide some secret inside  \\r\\n  \\r\\nHe told me he loved me  \\r\\nWhile he laughed in my face  \\r\\nHe just led me astray  \\r\\nHe took my virtue  \\r\\nI feel so cold inside  \\r\\nSorrow's frozen my mind  \\r\\n  \\r\\nMy heart is covered  \\r\\nWith thoughts entangled  \\r\\nHow could I ever have felt so real  \\r\\nIs there a place more lonely  \\r\\nThan I feel within  \\r\\nCould I have seen  \\r\\nCould I have known  \\r\\nI just took it as the truth  \\r\\n  \\r\\nEveryone with a friendly face  \\r\\nSeems to hide some secret inside  \\r\\n  \\r\\nHe told me he loved me  \\r\\nWhile he laughed in my face  \\r\\nHe just led me astray  \\r\\nHe took my virtue  \\r\\nI feel so cold inside  \\r\\nSorrow's frozen my mind  \\r\\n  \\r\\nAlways there to remind me  \\r\\nIt keeps me from believing  \\r\\nThat someone might be there  \\r\\nWho'll free me and never ever leave me  \\r\\n  \\r\\nHe told me he loved me  \\r\\nWhile he laughed in my face  \\r\\nHe just led me astray  \\r\\nHe took my virtue  \\r\\nI feel so cold inside  \\r\\nSorrow's frozen my mind\\r\\n\\r\\n\""
      ]
     },
     "execution_count": 37,
     "metadata": {},
     "output_type": "execute_result"
    }
   ],
   "source": [
    "sr['text'][0]"
   ]
  },
  {
   "cell_type": "code",
   "execution_count": 38,
   "id": "b4252cee-90f4-4b1a-95bf-290eaeb55bd1",
   "metadata": {},
   "outputs": [
    {
     "data": {
      "text/plain": [
       "(5000, 3)"
      ]
     },
     "execution_count": 38,
     "metadata": {},
     "output_type": "execute_result"
    }
   ],
   "source": [
    "sr.shape"
   ]
  },
  {
   "cell_type": "code",
   "execution_count": 39,
   "id": "0eda6ddb-ea93-4f71-9597-3970711dd180",
   "metadata": {},
   "outputs": [
    {
     "data": {
      "text/plain": [
       "0       these are the darkest clouds  \\r that have sur...\n",
       "1       (what is it?)  \\r (this is everlasting)  \\r st...\n",
       "2       the blues are in the air tonight  \\r love has ...\n",
       "3       [verse 1]  \\r no one love you like i love you ...\n",
       "4       your hair's so fair, your eye's so dark  \\r i ...\n",
       "                              ...                        \n",
       "4995    we come into your presence  \\r to sing a song ...\n",
       "4996    we were fading  \\r like the bottom of a bad dr...\n",
       "4997    the night we met  \\r the night that i won't fo...\n",
       "4998    i'm a creature of the street  \\r and i rip off...\n",
       "4999    tried so hard to understand all of your feelin...\n",
       "Name: text, Length: 5000, dtype: object"
      ]
     },
     "execution_count": 39,
     "metadata": {},
     "output_type": "execute_result"
    }
   ],
   "source": [
    "\n",
    "sr['text'].str.lower().replace(r'^\\w\\s', ' ').replace(r'\\n',' ', regex = True) "
   ]
  },
  {
   "cell_type": "code",
   "execution_count": 40,
   "id": "ae8583ab-aeec-4d90-acdf-e6a30b8c6b61",
   "metadata": {},
   "outputs": [
    {
     "data": {
      "text/html": [
       "<div>\n",
       "<style scoped>\n",
       "    .dataframe tbody tr th:only-of-type {\n",
       "        vertical-align: middle;\n",
       "    }\n",
       "\n",
       "    .dataframe tbody tr th {\n",
       "        vertical-align: top;\n",
       "    }\n",
       "\n",
       "    .dataframe thead th {\n",
       "        text-align: right;\n",
       "    }\n",
       "</style>\n",
       "<table border=\"1\" class=\"dataframe\">\n",
       "  <thead>\n",
       "    <tr style=\"text-align: right;\">\n",
       "      <th></th>\n",
       "      <th>artist</th>\n",
       "      <th>song</th>\n",
       "      <th>text</th>\n",
       "    </tr>\n",
       "  </thead>\n",
       "  <tbody>\n",
       "    <tr>\n",
       "      <th>4995</th>\n",
       "      <td>Hillsong United</td>\n",
       "      <td>Father Of Creation</td>\n",
       "      <td>We come into Your presence  \\r\\nTo sing a song...</td>\n",
       "    </tr>\n",
       "    <tr>\n",
       "      <th>4996</th>\n",
       "      <td>Everclear</td>\n",
       "      <td>Slide</td>\n",
       "      <td>We were fading  \\r\\nLike the bottom of a bad d...</td>\n",
       "    </tr>\n",
       "    <tr>\n",
       "      <th>4997</th>\n",
       "      <td>Dusty Springfield</td>\n",
       "      <td>I've Been Wrong Before</td>\n",
       "      <td>The night we met  \\r\\nThe night that I won't f...</td>\n",
       "    </tr>\n",
       "    <tr>\n",
       "      <th>4998</th>\n",
       "      <td>Alice Cooper</td>\n",
       "      <td>Bad Place Alone</td>\n",
       "      <td>I'm a creature of the street  \\r\\nAnd I rip of...</td>\n",
       "    </tr>\n",
       "    <tr>\n",
       "      <th>4999</th>\n",
       "      <td>Helloween</td>\n",
       "      <td>Midnight Sun</td>\n",
       "      <td>Tried so hard to understand all of your feelin...</td>\n",
       "    </tr>\n",
       "  </tbody>\n",
       "</table>\n",
       "</div>"
      ],
      "text/plain": [
       "                 artist                    song  \\\n",
       "4995    Hillsong United      Father Of Creation   \n",
       "4996          Everclear                   Slide   \n",
       "4997  Dusty Springfield  I've Been Wrong Before   \n",
       "4998       Alice Cooper         Bad Place Alone   \n",
       "4999          Helloween            Midnight Sun   \n",
       "\n",
       "                                                   text  \n",
       "4995  We come into Your presence  \\r\\nTo sing a song...  \n",
       "4996  We were fading  \\r\\nLike the bottom of a bad d...  \n",
       "4997  The night we met  \\r\\nThe night that I won't f...  \n",
       "4998  I'm a creature of the street  \\r\\nAnd I rip of...  \n",
       "4999  Tried so hard to understand all of your feelin...  "
      ]
     },
     "execution_count": 40,
     "metadata": {},
     "output_type": "execute_result"
    }
   ],
   "source": [
    "sr.tail()\n"
   ]
  },
  {
   "cell_type": "code",
   "execution_count": 41,
   "id": "43efa443-1114-499b-baa2-51fc3b5e2928",
   "metadata": {},
   "outputs": [],
   "source": [
    "import nltk\n",
    "from nltk.stem.porter import PorterStemmer"
   ]
  },
  {
   "cell_type": "code",
   "execution_count": 42,
   "id": "3f01538f-cf1e-47e3-8544-353d9ec5936a",
   "metadata": {},
   "outputs": [],
   "source": [
    "stemmer = PorterStemmer()"
   ]
  },
  {
   "cell_type": "code",
   "execution_count": 43,
   "id": "4396aed6-f93b-4797-86e5-1ae770be5e64",
   "metadata": {},
   "outputs": [],
   "source": [
    "def token(txt):\n",
    "    token = nltk.word_tokenize(txt)\n",
    "    a = [stemmer.stem(w) for w in token]\n",
    "    return \" \".join(a)"
   ]
  },
  {
   "cell_type": "code",
   "execution_count": 44,
   "id": "b35256db-6eb3-48c8-a125-90994feda20d",
   "metadata": {},
   "outputs": [
    {
     "name": "stderr",
     "output_type": "stream",
     "text": [
      "[nltk_data] Downloading package punkt to\n",
      "[nltk_data]     C:\\Users\\sachi\\AppData\\Roaming\\nltk_data...\n",
      "[nltk_data]   Package punkt is already up-to-date!\n"
     ]
    },
    {
     "data": {
      "text/plain": [
       "True"
      ]
     },
     "execution_count": 44,
     "metadata": {},
     "output_type": "execute_result"
    }
   ],
   "source": [
    "import nltk\n",
    "nltk.download ('punkt')"
   ]
  },
  {
   "cell_type": "code",
   "execution_count": 45,
   "id": "1c398930-1baf-49ed-9634-a40388724a33",
   "metadata": {},
   "outputs": [
    {
     "data": {
      "text/plain": [
       "'you are beauti'"
      ]
     },
     "execution_count": 45,
     "metadata": {},
     "output_type": "execute_result"
    }
   ],
   "source": [
    "token(\"you are beautiful\")"
   ]
  },
  {
   "cell_type": "code",
   "execution_count": 46,
   "id": "53bcf1df-5684-48e2-88b2-f4649015d527",
   "metadata": {},
   "outputs": [
    {
     "data": {
      "text/plain": [
       "'headlin'"
      ]
     },
     "execution_count": 46,
     "metadata": {},
     "output_type": "execute_result"
    }
   ],
   "source": [
    "token('headliners')"
   ]
  },
  {
   "cell_type": "code",
   "execution_count": 47,
   "id": "ecd36cf2-1541-4632-ad21-7b2c84c424c7",
   "metadata": {},
   "outputs": [
    {
     "data": {
      "text/plain": [
       "'let ride to break of dawn'"
      ]
     },
     "execution_count": 47,
     "metadata": {},
     "output_type": "execute_result"
    }
   ],
   "source": [
    "token ('lets ride to break of dawn')"
   ]
  },
  {
   "cell_type": "code",
   "execution_count": 48,
   "id": "7c4d33ab-9936-45f2-80ba-8eb6561df4cd",
   "metadata": {},
   "outputs": [
    {
     "data": {
      "text/plain": [
       "'i want to be driven extrem far'"
      ]
     },
     "execution_count": 48,
     "metadata": {},
     "output_type": "execute_result"
    }
   ],
   "source": [
    "token ('I want to be driven extremely far')"
   ]
  },
  {
   "cell_type": "code",
   "execution_count": 49,
   "id": "670a8cd2-8557-4869-a370-df7c9ddd67b6",
   "metadata": {},
   "outputs": [
    {
     "data": {
      "text/plain": [
       "0       these are the darkest cloud that have surround...\n",
       "1       ( what is it ? ) ( thi is everlast ) step up w...\n",
       "2       the blue are in the air tonight love ha gone a...\n",
       "3       [ vers 1 ] no one love you like i love you i n...\n",
       "4       your hair 's so fair , your eye 's so dark i l...\n",
       "                              ...                        \n",
       "4995    we come into your presenc to sing a song to yo...\n",
       "4996    we were fade like the bottom of a bad dream we...\n",
       "4997    the night we met the night that i wo n't forge...\n",
       "4998    i 'm a creatur of the street and i rip off all...\n",
       "4999    tri so hard to understand all of your feel tri...\n",
       "Name: text, Length: 5000, dtype: object"
      ]
     },
     "execution_count": 49,
     "metadata": {},
     "output_type": "execute_result"
    }
   ],
   "source": [
    "sr['text'].apply(lambda x: token(x))"
   ]
  },
  {
   "cell_type": "code",
   "execution_count": 50,
   "id": "3dcfbc3f-d9cc-4f3f-b9fb-06919fe7df2e",
   "metadata": {},
   "outputs": [],
   "source": [
    "from sklearn.feature_extraction.text import TfidfVectorizer \n",
    "from sklearn.metrics.pairwise import cosine_similarity "
   ]
  },
  {
   "cell_type": "code",
   "execution_count": 51,
   "id": "3920831f-dd9d-4fd2-b0fc-8bbec8dbee84",
   "metadata": {},
   "outputs": [],
   "source": [
    "tfid = TfidfVectorizer(analyzer = 'word', stop_words = 'english')"
   ]
  },
  {
   "cell_type": "code",
   "execution_count": 52,
   "id": "28cb5917-8290-4166-891b-11e6b61d8a94",
   "metadata": {},
   "outputs": [],
   "source": [
    "matrix=  tfid.fit_transform(sr['text'])"
   ]
  },
  {
   "cell_type": "code",
   "execution_count": 53,
   "id": "422af625-9421-44f3-a4c2-c1c6c5419875",
   "metadata": {},
   "outputs": [
    {
     "data": {
      "text/plain": [
       "<5000x24137 sparse matrix of type '<class 'numpy.float64'>'\n",
       "\twith 269928 stored elements in Compressed Sparse Row format>"
      ]
     },
     "execution_count": 53,
     "metadata": {},
     "output_type": "execute_result"
    }
   ],
   "source": [
    "matrix"
   ]
  },
  {
   "cell_type": "code",
   "execution_count": 54,
   "id": "a4a0ce88-7b50-4062-8a15-e4317cc1216e",
   "metadata": {},
   "outputs": [],
   "source": [
    "similar = cosine_similarity(matrix)"
   ]
  },
  {
   "cell_type": "code",
   "execution_count": 55,
   "id": "d8bb9ec8-ea0c-4a47-b951-87274ae888f2",
   "metadata": {},
   "outputs": [
    {
     "data": {
      "text/plain": [
       "array([[1.        , 0.00212242, 0.04123466, ..., 0.05156873, 0.04121283,\n",
       "        0.0371167 ],\n",
       "       [0.00212242, 1.        , 0.00370472, ..., 0.01101601, 0.00256596,\n",
       "        0.02945308],\n",
       "       [0.04123466, 0.00370472, 1.        , ..., 0.01889187, 0.02573993,\n",
       "        0.04260097],\n",
       "       ...,\n",
       "       [0.05156873, 0.01101601, 0.01889187, ..., 1.        , 0.01112885,\n",
       "        0.02557275],\n",
       "       [0.04121283, 0.00256596, 0.02573993, ..., 0.01112885, 1.        ,\n",
       "        0.02875017],\n",
       "       [0.0371167 , 0.02945308, 0.04260097, ..., 0.02557275, 0.02875017,\n",
       "        1.        ]])"
      ]
     },
     "execution_count": 55,
     "metadata": {},
     "output_type": "execute_result"
    }
   ],
   "source": [
    "similar"
   ]
  },
  {
   "cell_type": "code",
   "execution_count": 56,
   "id": "ee17108f-147e-463a-bd2c-01a663ae9418",
   "metadata": {},
   "outputs": [
    {
     "data": {
      "text/plain": [
       "array([0.00212242, 1.        , 0.00370472, ..., 0.01101601, 0.00256596,\n",
       "       0.02945308])"
      ]
     },
     "execution_count": 56,
     "metadata": {},
     "output_type": "execute_result"
    }
   ],
   "source": [
    "similar [1]"
   ]
  },
  {
   "cell_type": "markdown",
   "id": "eeb5e249-2644-45a3-961a-93ac080f1a04",
   "metadata": {},
   "source": [
    "Writing the Recommender Function\n",
    "This will suggest the user a song that fits their likings"
   ]
  },
  {
   "cell_type": "code",
   "execution_count": 57,
   "id": "f9a84922-6e8c-4d4c-9b94-51d28ae5673c",
   "metadata": {},
   "outputs": [],
   "source": [
    "def recommender(song_name):\n",
    "    idx = sr[sr['song']== song_name].index [0]\n",
    "    distance = sorted(list(enumerate(similar[idx])), reverse = True, key = lambda x:x[1])\n",
    "    song = []\n",
    "    for s_id in distance [1:10]:\n",
    "        song.append (sr.iloc[s_id[0]].song)\n",
    "    return song"
   ]
  },
  {
   "cell_type": "code",
   "execution_count": 58,
   "id": "f17dc4ec-7619-49d9-b547-6415c3ffdc55",
   "metadata": {},
   "outputs": [
    {
     "data": {
      "text/plain": [
       "['I Go To The River',\n",
       " 'This River',\n",
       " 'To The River',\n",
       " 'Let It Flow',\n",
       " 'East Of The River',\n",
       " 'Big River',\n",
       " 'Yes, The River Knows',\n",
       " 'Cry A River',\n",
       " 'North And South Of The River']"
      ]
     },
     "execution_count": 58,
     "metadata": {},
     "output_type": "execute_result"
    }
   ],
   "source": [
    "recommender (\"Cry Me A River\")"
   ]
  },
  {
   "cell_type": "code",
   "execution_count": 59,
   "id": "9131ae4f-72d2-4e47-8f83-b3cd57e69892",
   "metadata": {},
   "outputs": [],
   "source": [
    "import pickle "
   ]
  },
  {
   "cell_type": "code",
   "execution_count": 60,
   "id": "9e78389e-a4f4-4e9a-91a0-98c3c0a76364",
   "metadata": {},
   "outputs": [],
   "source": [
    "pickle.dump (similar , open (\"simlarity\", \"wb\"))"
   ]
  },
  {
   "cell_type": "code",
   "execution_count": 61,
   "id": "e7148c92-1b9c-41ca-b801-7c0cf139320e",
   "metadata": {},
   "outputs": [],
   "source": [
    "pickle.dump (sr, open (\"sr\", \"wb\")) "
   ]
  },
  {
   "cell_type": "code",
   "execution_count": null,
   "id": "907bfeae-26b0-44eb-be34-4d7bcf1ae985",
   "metadata": {},
   "outputs": [],
   "source": []
  }
 ],
 "metadata": {
  "kernelspec": {
   "display_name": "Python 3 (ipykernel)",
   "language": "python",
   "name": "python3"
  },
  "language_info": {
   "codemirror_mode": {
    "name": "ipython",
    "version": 3
   },
   "file_extension": ".py",
   "mimetype": "text/x-python",
   "name": "python",
   "nbconvert_exporter": "python",
   "pygments_lexer": "ipython3",
   "version": "3.11.7"
  }
 },
 "nbformat": 4,
 "nbformat_minor": 5
}
